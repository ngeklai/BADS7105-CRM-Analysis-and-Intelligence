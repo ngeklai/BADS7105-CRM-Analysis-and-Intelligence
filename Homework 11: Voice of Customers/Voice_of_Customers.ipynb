{
  "nbformat": 4,
  "nbformat_minor": 0,
  "metadata": {
    "colab": {
      "name": "Voice of Customers.ipynb",
      "provenance": [],
      "collapsed_sections": [],
      "toc_visible": true
    },
    "kernelspec": {
      "name": "python3",
      "display_name": "Python 3"
    },
    "language_info": {
      "name": "python"
    }
  },
  "cells": [
    {
      "cell_type": "markdown",
      "metadata": {
        "id": "IKiumMO6EKfo"
      },
      "source": [
        "# **1. Prepare Data**"
      ]
    },
    {
      "cell_type": "code",
      "metadata": {
        "colab": {
          "base_uri": "https://localhost:8080/"
        },
        "id": "puaI3zrF7usR",
        "outputId": "6980347d-1f2a-4877-f6af-ceac86ca2318"
      },
      "source": [
        "#grouping comments for each restaurant to be one long text\n",
        "\n",
        "import pandas as pd\n",
        "\n",
        "documents = pd.read_csv('/content/CustomerReviews(R01).csv')\n",
        "documents['Restaurant']"
      ],
      "execution_count": null,
      "outputs": [
        {
          "output_type": "execute_result",
          "data": {
            "text/plain": [
              "0    Mo-Mo-Paradise (โม โม พาราไดซ์) เดอะมอลล์ บางกะปิ\n",
              "1            Shabushi (ชาบูชิ) เดอะมอลล์บางกะปิ ชั้น G\n",
              "2                                        ข้าน้อยขอชาบู\n",
              "Name: Restaurant, dtype: object"
            ]
          },
          "metadata": {
            "tags": []
          },
          "execution_count": 5
        }
      ]
    },
    {
      "cell_type": "markdown",
      "metadata": {
        "id": "_dBIcOqYEjnl"
      },
      "source": [
        "# **2. Install & Import**"
      ]
    },
    {
      "cell_type": "code",
      "metadata": {
        "colab": {
          "base_uri": "https://localhost:8080/"
        },
        "id": "SGlzcCMaPw7x",
        "outputId": "65dfd238-d6d4-4794-f26b-beb383bf90c0"
      },
      "source": [
        "!pip install --upgrade pythainlp\n",
        "import pythainlp\n",
        "import warnings\n",
        "warnings.filterwarnings(\"ignore\", category=DeprecationWarning)\n",
        "from sklearn.feature_extraction.text import TfidfVectorizer \n",
        "import numpy as np "
      ],
      "execution_count": null,
      "outputs": [
        {
          "output_type": "stream",
          "text": [
            "Requirement already up-to-date: pythainlp in /usr/local/lib/python3.7/dist-packages (2.3.1)\n",
            "Requirement already satisfied, skipping upgrade: requests>=2.22.0 in /usr/local/lib/python3.7/dist-packages (from pythainlp) (2.23.0)\n",
            "Requirement already satisfied, skipping upgrade: python-crfsuite>=0.9.6 in /usr/local/lib/python3.7/dist-packages (from pythainlp) (0.9.7)\n",
            "Requirement already satisfied, skipping upgrade: tinydb>=3.0 in /usr/local/lib/python3.7/dist-packages (from pythainlp) (4.4.0)\n",
            "Requirement already satisfied, skipping upgrade: certifi>=2017.4.17 in /usr/local/lib/python3.7/dist-packages (from requests>=2.22.0->pythainlp) (2020.12.5)\n",
            "Requirement already satisfied, skipping upgrade: chardet<4,>=3.0.2 in /usr/local/lib/python3.7/dist-packages (from requests>=2.22.0->pythainlp) (3.0.4)\n",
            "Requirement already satisfied, skipping upgrade: idna<3,>=2.5 in /usr/local/lib/python3.7/dist-packages (from requests>=2.22.0->pythainlp) (2.10)\n",
            "Requirement already satisfied, skipping upgrade: urllib3!=1.25.0,!=1.25.1,<1.26,>=1.21.1 in /usr/local/lib/python3.7/dist-packages (from requests>=2.22.0->pythainlp) (1.24.3)\n"
          ],
          "name": "stdout"
        }
      ]
    },
    {
      "cell_type": "markdown",
      "metadata": {
        "id": "XqcW5lMuQd5X"
      },
      "source": [
        "# **3. Text Preprocessing**"
      ]
    },
    {
      "cell_type": "markdown",
      "metadata": {
        "id": "ghb3F1t56NRe"
      },
      "source": [
        "Source: from class BADS7105"
      ]
    },
    {
      "cell_type": "code",
      "metadata": {
        "id": "__gorypiC8Jo"
      },
      "source": [
        "stopwords = list(pythainlp.corpus.thai_stopwords())\n",
        "removed_words = [' ', '  ', '\\n', 'ร้าน', '(', ')' , '           ']\n",
        "screening_words = stopwords + removed_words\n",
        "\n",
        "def tokenize_with_space(sentence):\n",
        "  merged = ''\n",
        "  words = pythainlp.word_tokenize(str(sentence), engine='newmm')\n",
        "  for word in words:\n",
        "    if word not in screening_words:\n",
        "      merged = merged + ',' + word\n",
        "  return merged[1:]"
      ],
      "execution_count": null,
      "outputs": []
    },
    {
      "cell_type": "code",
      "metadata": {
        "id": "EJPD106mDuN7"
      },
      "source": [
        "documents['Review_tokenized'] = documents['Review'].apply(lambda x: tokenize_with_space(x))"
      ],
      "execution_count": null,
      "outputs": []
    },
    {
      "cell_type": "markdown",
      "metadata": {
        "id": "j0GsktruE3te"
      },
      "source": [
        "# **4. TF-IDF and Vector Conversion**"
      ]
    },
    {
      "cell_type": "code",
      "metadata": {
        "id": "sih0x2B1pOzW"
      },
      "source": [
        "tfidfvectoriser=TfidfVectorizer()\n",
        "tfidfvectoriser.fit(documents['Review_tokenized'] )\n",
        "\n",
        "tfidf_vectors=tfidfvectoriser.transform(documents['Review_tokenized'] )"
      ],
      "execution_count": null,
      "outputs": []
    },
    {
      "cell_type": "markdown",
      "metadata": {
        "id": "vhMm1zERQ6b_"
      },
      "source": [
        "# **5. Cosine Similarity**"
      ]
    },
    {
      "cell_type": "code",
      "metadata": {
        "id": "VFNni3kXtX2u",
        "colab": {
          "base_uri": "https://localhost:8080/"
        },
        "outputId": "77a42cc1-4fd5-45cc-92f1-2e5c51a031db"
      },
      "source": [
        "pairwise_similarities=np.dot(tfidf_vectors,tfidf_vectors.T).toarray()\n",
        "pairwise_similarities"
      ],
      "execution_count": null,
      "outputs": [
        {
          "output_type": "execute_result",
          "data": {
            "text/plain": [
              "array([[1.        , 0.1488546 , 0.09067434],\n",
              "       [0.1488546 , 1.        , 0.09143388],\n",
              "       [0.09067434, 0.09143388, 1.        ]])"
            ]
          },
          "metadata": {
            "tags": []
          },
          "execution_count": 10
        }
      ]
    },
    {
      "cell_type": "code",
      "metadata": {
        "colab": {
          "base_uri": "https://localhost:8080/"
        },
        "id": "Kw71a-jpRcRH",
        "outputId": "fde44fd2-548e-4528-ea3a-7bfb204ed0cb"
      },
      "source": [
        "print (tfidf_vectors[0].toarray())\n",
        "print (pairwise_similarities.shape)\n",
        "print (pairwise_similarities[0][:])"
      ],
      "execution_count": null,
      "outputs": [
        {
          "output_type": "stream",
          "text": [
            "[[0.         0.         0.         0.         0.         0.10274067\n",
            "  0.         0.         0.10274067 0.         0.308222   0.\n",
            "  0.         0.         0.         0.10274067 0.10274067 0.\n",
            "  0.10274067 0.         0.         0.10274067 0.         0.\n",
            "  0.10274067 0.         0.         0.         0.10274067 0.10274067\n",
            "  0.         0.         0.         0.10274067 0.         0.\n",
            "  0.         0.308222   0.06068029 0.20548134 0.20548134 0.10274067\n",
            "  0.10274067 0.10274067 0.         0.         0.10274067 0.\n",
            "  0.07813693 0.         0.23441078 0.         0.         0.06068029\n",
            "  0.         0.         0.         0.         0.10274067 0.10274067\n",
            "  0.         0.         0.         0.         0.         0.10274067\n",
            "  0.         0.10274067 0.10274067 0.308222   0.         0.308222\n",
            "  0.         0.23441078 0.         0.10274067 0.07813693 0.\n",
            "  0.         0.         0.10274067 0.10274067 0.10274067 0.\n",
            "  0.         0.         0.10274067 0.07813693 0.         0.10274067\n",
            "  0.         0.15627385 0.         0.10274067 0.10274067 0.\n",
            "  0.         0.         0.         0.10274067 0.10274067 0.\n",
            "  0.10274067 0.         0.         0.         0.10274067 0.10274067\n",
            "  0.10274067 0.10274067 0.07813693 0.         0.10274067]]\n",
            "(3, 3)\n",
            "[1.         0.1488546  0.09067434]\n"
          ],
          "name": "stdout"
        }
      ]
    },
    {
      "cell_type": "code",
      "metadata": {
        "id": "JKtaKKkHtjjj"
      },
      "source": [
        "#identify most similarity\n",
        "\n",
        "def most_similar(doc_id,similarity_matrix,matrix):\n",
        "    print (f'Document: {documents.iloc[doc_id][\"Review\"]}')\n",
        "    print ('\\n')\n",
        "    print ('Similar Documents:')\n",
        "    if matrix=='Cosine Similarity':\n",
        "        similar_ix=np.argsort(similarity_matrix[doc_id])[::-1]\n",
        "    for ix in similar_ix:\n",
        "        if ix==doc_id:\n",
        "            continue\n",
        "        print('\\n')\n",
        "        print (f'Document: {documents.iloc[ix][\"Review\"]}')\n",
        "        print (f'{matrix} : {similarity_matrix[doc_id][ix]}')"
      ],
      "execution_count": null,
      "outputs": []
    },
    {
      "cell_type": "code",
      "metadata": {
        "colab": {
          "base_uri": "https://localhost:8080/"
        },
        "id": "ZJ-uJFrxuma1",
        "outputId": "81d02dca-bd22-498c-8c6b-2ce95d1779a2"
      },
      "source": [
        "most_similar(1,pairwise_similarities,'Cosine Similarity')\n",
        "\n",
        "#index 0: Mo-Mo-Paradise [ที่สำคัญของร้านนี้...]\n",
        "#index 1: Shabushi [มา านที่ขาบูชิต้องมาตอนหิว...]\n",
        "#index 2: ข้าน้อยขอชาบู [หลังจากที่เคยลองสาขา...]"
      ],
      "execution_count": null,
      "outputs": [
        {
          "output_type": "stream",
          "text": [
            "Document: มา านที่ขาบูชิต้องมาตอนหิว ไม่งั้นจะไม่คุ้มนะครับ ฮ่าๆ เพราะเมนูของกินมันเยอะมาก ทั้งอาหารบนสายพาน อาหารทานเล่น ซูชิ ปูอัด เกี๊ยวซ่า กุ้งเทมปุระ มันละลานตามาก ราคาตอนนี้ 399 บาท แพงมั้ย..ก็นิดนึง แต่ถ้าเทียบกับอาหารแล้วก็ถือว่าคุ้มครับ\n",
            "\n",
            "\n",
            "Similar Documents:\n",
            "\n",
            "\n",
            "Document: ที่สำคัญของร้านนี้คือบริการดีมากพนักงานน่ารักสุดๆสะอาดสะอ้านใส่ใจค่อนข้างประทับใจกับการบริการรสชาติอาหารอันนี้แปลก​ใหม่\n",
            "เซ็ท560 บาท\n",
            "อาหารจำกัด​ไม่ได้​หลากหลาย​แต่เพียง​พอกับความต้องการ\n",
            "เราไม่กินเนื้อ​ กินสันคอ4 ถาด​ เป็ด1\n",
            "แฟนกินเนื้อ​ คุณ​ภาพ​ดี\n",
            "น้ำซุป​ดำ​กับเผ็ด\n",
            "ที่สำคัญคือน้ำจิ้มอร่อยมากไม่เคยกินรสชาติแบบนี้มาก่อนเป็นเต้าเจี้ยวนิดๆแต่ก็ไม่ได้เคลมก็รสชาติดีนะถามราคาโดยรวมก็ถือว่าคุ้มเพราะว่าโมจิอร่อยมากไอติมก็อร่อยไม่ต้องออกไปกินข้างนอกสรุปรวมๆละกันว่าประทับใจในบริการและคุณภาพของอาหาร\n",
            "Cosine Similarity : 0.14885459828163455\n",
            "\n",
            "\n",
            "Document: หลังจากที่เคยลองสาขายูเนี่ยนมอลล์ไป รอบนี้มาที่สาขาเดอะมอลล์บางกะปิชั้น 4 โซน MCC HALL ด้านในสุดติดกับพวกค่ายมวย ตอนแรกก็นึกว่าชาบู 199 ธรรมดา แต่ที่ไหนได้ มีพิซซ่าจากนารายพิซเซอเรียด้วย\n",
            "\n",
            "สำหรับราคา 199 บาท จะทานพวกหมูได้ทั้งหมด รวมถึงพิซซ่า ของทอด ซุปต่างๆ แกงเขียวหวาน ได้น้ำซุป 1 รสชาติ\n",
            "\n",
            "- ถ้าอยากได้น้ำซุปเพิ่มเป็น 2 รสชาติ จ่ายเพิ่มคนละ 40 บาท\n",
            "- น้ำดื่มรีฟีล 39 บาท\n",
            "- ส่วนใครอยากทานเนื้อก็เพิ่มคนละ 49 บาท\n",
            "- ซูชิและของหวานสั่งเพิ่มโดยจ่ายราคาตามเมนู\n",
            "\n",
            "รวมๆก็ถือว่าอิ่มคุ้มดีนะ ถึงเบค่อนจะมันเยอะไปหน่อย น้ำซุปจะไม่ได้เข้มข้นมากนัก แต่ในราคานี้ มีตัวเลือกให้เท่านี้ วันไหนหิวมากๆก็จะแวะไปใหม่แน่นอน\n",
            "Cosine Similarity : 0.09143387762344748\n"
          ],
          "name": "stdout"
        }
      ]
    },
    {
      "cell_type": "markdown",
      "metadata": {
        "id": "Ni-Q5SZlMzh3"
      },
      "source": [
        "As the result, we found that...\n",
        "1. Momo Paradise: Shabushi is its competitor\n",
        "2. Shabushi: Momo Paradise is its competitor\n",
        "3. Khanoi: Shabushi is its competitor"
      ]
    },
    {
      "cell_type": "markdown",
      "metadata": {
        "id": "9DvOKQnNT3fe"
      },
      "source": [
        "Alternative methods: Word2Vec, GloVe, FastText, BERT (and other Doc2Vec tools)"
      ]
    },
    {
      "cell_type": "markdown",
      "metadata": {
        "id": "zQvbn1NbNlS0"
      },
      "source": [
        "Source: https://towardsdatascience.com/calculating-document-similarities-using-bert-and-other-models-b2c1a29c9630"
      ]
    }
  ]
}